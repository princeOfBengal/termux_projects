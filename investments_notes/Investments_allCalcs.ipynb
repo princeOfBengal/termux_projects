{
 "cells": [
  {
   "cell_type": "markdown",
   "metadata": {},
   "source": [
    "# Investments all Calculations"
   ]
  },
  {
   "cell_type": "markdown",
   "metadata": {},
   "source": [
    "## Module 1\n",
    "\n",
    "### Project Net Present Value\n",
    "\n",
    "* A project requires an upfront investment of $1 millionand yields cash flows as show below. Assume the annual discount rate, r, is 10\\%\n",
    "\n",
    "1.  What is the present value of the cash flows?\n",
    "2.  What is the net present value of the project?\n",
    "3.  How do the results change if r = 18%?"
   ]
  },
  {
   "cell_type": "code",
   "execution_count": 45,
   "metadata": {
    "vscode": {
     "languageId": "r"
    }
   },
   "outputs": [
    {
     "data": {
      "text/html": [
       "<table class=\"dataframe\">\n",
       "<caption>A data.table: 3 × 2</caption>\n",
       "<thead>\n",
       "\t<tr><th scope=col>Time Cash Flow is Received (in years)</th><th scope=col>Cash Flow (in $)</th></tr>\n",
       "\t<tr><th scope=col>&lt;int&gt;</th><th scope=col>&lt;formttbl&gt;</th></tr>\n",
       "</thead>\n",
       "<tbody>\n",
       "\t<tr><td>1</td><td>400,000.00</td></tr>\n",
       "\t<tr><td>2</td><td>450,000.00</td></tr>\n",
       "\t<tr><td>3</td><td>380,000.00</td></tr>\n",
       "</tbody>\n",
       "</table>\n"
      ],
      "text/latex": [
       "A data.table: 3 × 2\n",
       "\\begin{tabular}{ll}\n",
       " Time Cash Flow is Received (in years) & Cash Flow (in \\$)\\\\\n",
       " <int> & <formttbl>\\\\\n",
       "\\hline\n",
       "\t 1 & 400,000.00\\\\\n",
       "\t 2 & 450,000.00\\\\\n",
       "\t 3 & 380,000.00\\\\\n",
       "\\end{tabular}\n"
      ],
      "text/markdown": [
       "\n",
       "A data.table: 3 × 2\n",
       "\n",
       "| Time Cash Flow is Received (in years) &lt;int&gt; | Cash Flow (in $) &lt;formttbl&gt; |\n",
       "|---|---|\n",
       "| 1 | 400,000.00 |\n",
       "| 2 | 450,000.00 |\n",
       "| 3 | 380,000.00 |\n",
       "\n"
      ],
      "text/plain": [
       "  Time Cash Flow is Received (in years) Cash Flow (in $)\n",
       "1 1                                     400,000.00      \n",
       "2 2                                     450,000.00      \n",
       "3 3                                     380,000.00      "
      ]
     },
     "metadata": {},
     "output_type": "display_data"
    }
   ],
   "source": [
    "library(data.table)\n",
    "suppressMessages(library(tidyverse))\n",
    "projectNPVTable <- data.table(`Time Cash Flow is Received (in years)` = c(1:3), `Cash Flow (in $)` = formattable::accounting(c(400000,450000,380000)))\n",
    "projectNPVTable"
   ]
  },
  {
   "cell_type": "markdown",
   "metadata": {},
   "source": [
    "1. Present Value of the Cash flows:\n",
    "* Discount each cash flow using discount formula: $\\frac{C_{t}}{(1+r)^{t}}$\n",
    "    - ex: PV of cash flow in year 3 = $\\frac{380000}{(1+.10)^{3}}$"
   ]
  },
  {
   "cell_type": "code",
   "execution_count": 6,
   "metadata": {
    "vscode": {
     "languageId": "r"
    }
   },
   "outputs": [
    {
     "data": {
      "text/html": [
       "<table class=\"dataframe\">\n",
       "<caption>A data.table: 3 × 3</caption>\n",
       "<thead>\n",
       "\t<tr><th scope=col>Time Cash Flow is Received (in years)</th><th scope=col>Cash Flow (in $)</th><th scope=col>PV of Cashflow (in $)</th></tr>\n",
       "\t<tr><th scope=col>&lt;int&gt;</th><th scope=col>&lt;formttbl&gt;</th><th scope=col>&lt;dbl&gt;</th></tr>\n",
       "</thead>\n",
       "<tbody>\n",
       "\t<tr><td>1</td><td>400,000.00</td><td>363636.4</td></tr>\n",
       "\t<tr><td>2</td><td>450,000.00</td><td>371900.8</td></tr>\n",
       "\t<tr><td>3</td><td>380,000.00</td><td>285499.6</td></tr>\n",
       "</tbody>\n",
       "</table>\n"
      ],
      "text/latex": [
       "A data.table: 3 × 3\n",
       "\\begin{tabular}{lll}\n",
       " Time Cash Flow is Received (in years) & Cash Flow (in \\$) & PV of Cashflow (in \\$)\\\\\n",
       " <int> & <formttbl> & <dbl>\\\\\n",
       "\\hline\n",
       "\t 1 & 400,000.00 & 363636.4\\\\\n",
       "\t 2 & 450,000.00 & 371900.8\\\\\n",
       "\t 3 & 380,000.00 & 285499.6\\\\\n",
       "\\end{tabular}\n"
      ],
      "text/markdown": [
       "\n",
       "A data.table: 3 × 3\n",
       "\n",
       "| Time Cash Flow is Received (in years) &lt;int&gt; | Cash Flow (in $) &lt;formttbl&gt; | PV of Cashflow (in $) &lt;dbl&gt; |\n",
       "|---|---|---|\n",
       "| 1 | 400,000.00 | 363636.4 |\n",
       "| 2 | 450,000.00 | 371900.8 |\n",
       "| 3 | 380,000.00 | 285499.6 |\n",
       "\n"
      ],
      "text/plain": [
       "  Time Cash Flow is Received (in years) Cash Flow (in $) PV of Cashflow (in $)\n",
       "1 1                                     400,000.00       363636.4             \n",
       "2 2                                     450,000.00       371900.8             \n",
       "3 3                                     380,000.00       285499.6             "
      ]
     },
     "metadata": {},
     "output_type": "display_data"
    }
   ],
   "source": [
    "discountToPV <- function(discountRate, time, cashflow){\n",
    "    pv = cashflow / ((1+discountRate)^time)\n",
    "    pv\n",
    "}\n",
    "projectNPVTable[,\n",
    "    `PV of Cashflow (in $)` := sapply(1:(nrow(projectNPVTable)), \n",
    "        FUN = function(x) discountToPV(discountRate = .10, \n",
    "                                    time = projectNPVTable[x,]$`Time Cash Flow is Received (in years)`, \n",
    "                                    cashflow = projectNPVTable[x,]$`Cash Flow (in $)`))]\n",
    "\n",
    "projectNPVTable"
   ]
  },
  {
   "cell_type": "markdown",
   "metadata": {},
   "source": [
    "2. Net Present Value of Cash Flow\n",
    "* Sum the discounted cash flows from project and subtract the upfront investment\n"
   ]
  },
  {
   "cell_type": "code",
   "execution_count": 7,
   "metadata": {
    "vscode": {
     "languageId": "r"
    }
   },
   "outputs": [
    {
     "data": {
      "text/html": [
       "21,036.81"
      ],
      "text/latex": [
       "21,036.81"
      ],
      "text/markdown": [
       "21,036.81"
      ],
      "text/plain": [
       "[1] 21,036.81"
      ]
     },
     "metadata": {},
     "output_type": "display_data"
    }
   ],
   "source": [
    "npv = sum(projectNPVTable$`PV of Cashflow (in $)`) - 1000000\n",
    "formattable::accounting(npv)"
   ]
  },
  {
   "cell_type": "markdown",
   "metadata": {},
   "source": [
    "3. Using a discount rate of 18% instead of 10%\n",
    "* Replace 10% with 18% in discount formula $\\frac{C_{t}}{(1+r)^{t}}$\n",
    "    - ex: PV of cash flow in year 3 = $\\frac{380000}{(1+.18)^{3}}$"
   ]
  },
  {
   "cell_type": "code",
   "execution_count": 8,
   "metadata": {
    "vscode": {
     "languageId": "r"
    }
   },
   "outputs": [
    {
     "data": {
      "text/html": [
       "<table class=\"dataframe\">\n",
       "<caption>A data.table: 3 × 4</caption>\n",
       "<thead>\n",
       "\t<tr><th scope=col>Time Cash Flow is Received (in years)</th><th scope=col>Cash Flow (in $)</th><th scope=col>PV of Cashflow (in $)</th><th scope=col>PV of Cashflow with r = 18% (in $)</th></tr>\n",
       "\t<tr><th scope=col>&lt;int&gt;</th><th scope=col>&lt;formttbl&gt;</th><th scope=col>&lt;dbl&gt;</th><th scope=col>&lt;dbl&gt;</th></tr>\n",
       "</thead>\n",
       "<tbody>\n",
       "\t<tr><td>1</td><td>400,000.00</td><td>363636.4</td><td>338983.1</td></tr>\n",
       "\t<tr><td>2</td><td>450,000.00</td><td>371900.8</td><td>323183.0</td></tr>\n",
       "\t<tr><td>3</td><td>380,000.00</td><td>285499.6</td><td>231279.7</td></tr>\n",
       "</tbody>\n",
       "</table>\n"
      ],
      "text/latex": [
       "A data.table: 3 × 4\n",
       "\\begin{tabular}{llll}\n",
       " Time Cash Flow is Received (in years) & Cash Flow (in \\$) & PV of Cashflow (in \\$) & PV of Cashflow with r = 18\\% (in \\$)\\\\\n",
       " <int> & <formttbl> & <dbl> & <dbl>\\\\\n",
       "\\hline\n",
       "\t 1 & 400,000.00 & 363636.4 & 338983.1\\\\\n",
       "\t 2 & 450,000.00 & 371900.8 & 323183.0\\\\\n",
       "\t 3 & 380,000.00 & 285499.6 & 231279.7\\\\\n",
       "\\end{tabular}\n"
      ],
      "text/markdown": [
       "\n",
       "A data.table: 3 × 4\n",
       "\n",
       "| Time Cash Flow is Received (in years) &lt;int&gt; | Cash Flow (in $) &lt;formttbl&gt; | PV of Cashflow (in $) &lt;dbl&gt; | PV of Cashflow with r = 18% (in $) &lt;dbl&gt; |\n",
       "|---|---|---|---|\n",
       "| 1 | 400,000.00 | 363636.4 | 338983.1 |\n",
       "| 2 | 450,000.00 | 371900.8 | 323183.0 |\n",
       "| 3 | 380,000.00 | 285499.6 | 231279.7 |\n",
       "\n"
      ],
      "text/plain": [
       "  Time Cash Flow is Received (in years) Cash Flow (in $) PV of Cashflow (in $)\n",
       "1 1                                     400,000.00       363636.4             \n",
       "2 2                                     450,000.00       371900.8             \n",
       "3 3                                     380,000.00       285499.6             \n",
       "  PV of Cashflow with r = 18% (in $)\n",
       "1 338983.1                          \n",
       "2 323183.0                          \n",
       "3 231279.7                          "
      ]
     },
     "metadata": {},
     "output_type": "display_data"
    },
    {
     "data": {
      "text/html": [
       "(106,554.22)"
      ],
      "text/latex": [
       "(106,554.22)"
      ],
      "text/markdown": [
       "(106,554.22)"
      ],
      "text/plain": [
       "[1] (106,554.22)"
      ]
     },
     "metadata": {},
     "output_type": "display_data"
    }
   ],
   "source": [
    "projectNPVTable[,\n",
    "    `PV of Cashflow with r = 18% (in $)` := sapply(1:(nrow(projectNPVTable)), \n",
    "        FUN = function(x) discountToPV(discountRate = .18, \n",
    "                                    time = projectNPVTable[x,]$`Time Cash Flow is Received (in years)`, \n",
    "                                    cashflow = projectNPVTable[x,]$`Cash Flow (in $)`))]\n",
    "\n",
    "projectNPVTable \n",
    "npv = sum(projectNPVTable$`PV of Cashflow with r = 18% (in $)`) - 1000000\n",
    "formattable::accounting(npv)                                   "
   ]
  },
  {
   "cell_type": "markdown",
   "metadata": {},
   "source": [
    "* Negatative NPV when discount rate is 18%, reject project"
   ]
  },
  {
   "cell_type": "markdown",
   "metadata": {},
   "source": [
    "### Price of a Bond\n",
    "\n",
    "* What is the price of a bond that pays a fixed annual coupon, C, of 5% and has a maturity, T, of 4 years?\n",
    "    - Assume interest rate, r, is 6%\n",
    "    - Assume face value of $100\n",
    "\n",
    "* Price of a bond given by formula:\n",
    "    - $P_{B} = \\sum^{T}_{t=1} \\frac{C}{(1+r)^{t}} + \\frac{Par Value}{(1+r)^{T}}$\n",
    "\n",
    "* $P_{B} = \\sum^{T = 4}_{t=1} \\frac{(100*0.05)}{(1+0.06)^{t}} + \\frac{(100)}{(1+0.06)^{T}}$\n",
    "* $P_{B} = $   "
   ]
  },
  {
   "cell_type": "code",
   "execution_count": 9,
   "metadata": {
    "vscode": {
     "languageId": "r"
    }
   },
   "outputs": [
    {
     "data": {
      "text/html": [
       "96.5348943873003"
      ],
      "text/latex": [
       "96.5348943873003"
      ],
      "text/markdown": [
       "96.5348943873003"
      ],
      "text/plain": [
       "[1] 96.53489"
      ]
     },
     "metadata": {},
     "output_type": "display_data"
    }
   ],
   "source": [
    "bondPrice <- function(faceValue = 100, couponRate, discountRate, timeToMaturity){\n",
    "    coupon = faceValue * couponRate\n",
    "    discountedCashFlows <- sum(sapply(1:timeToMaturity, FUN = function(x) (coupon / ((1+discountRate)^x)) ))\n",
    "    discountedFaceValue <- faceValue / ((1+discountRate)^timeToMaturity)\n",
    "    price = discountedCashFlows + discountedFaceValue\n",
    "    price\n",
    "}\n",
    "bondPrice(faceValue = 100, couponRate = .05, discountRate = .06, timeToMaturity = 4)"
   ]
  },
  {
   "cell_type": "markdown",
   "metadata": {},
   "source": [
    "### Holding Period Return\n",
    "* Using bond in the previous example\n",
    "* Assume bond was purchased one year ago at a price of $95\n",
    "* The bond is sold now after recieving just one coupon payment\n",
    "* Holding Period Returns = $\\frac{P_{1} - P_{0} + C_{1}}{P_{0}}$\n",
    "    - For Example: $\\frac{96.53 - 95 + 5}{95} = 0.688 = 6.88\\%$"
   ]
  },
  {
   "cell_type": "markdown",
   "metadata": {},
   "source": [
    "### Pricing Under Uncertainty\n",
    "* Prices of a security may change under different scenarios\n",
    "* Useful to use a table containing the probabilities and prices (or HPRs) for all scenarios\n",
    "    - would reflect the _probability distribution of price (or HPR)_\n",
    "\n",
    "#### Bond Price Under Uncertainty\n"
   ]
  },
  {
   "cell_type": "code",
   "execution_count": 10,
   "metadata": {
    "vscode": {
     "languageId": "r"
    }
   },
   "outputs": [
    {
     "data": {
      "text/html": [
       "<table class=\"dataframe\">\n",
       "<caption>A data.table: 3 × 3</caption>\n",
       "<thead>\n",
       "\t<tr><th scope=col>Economic State</th><th scope=col>Probability</th><th scope=col>Price in $</th></tr>\n",
       "\t<tr><th scope=col>&lt;chr&gt;</th><th scope=col>&lt;dbl&gt;</th><th scope=col>&lt;dbl&gt;</th></tr>\n",
       "</thead>\n",
       "<tbody>\n",
       "\t<tr><td>Boom         </td><td>0.3</td><td> 98</td></tr>\n",
       "\t<tr><td>Normal Growth</td><td>0.5</td><td>100</td></tr>\n",
       "\t<tr><td>Recession    </td><td>0.2</td><td>103</td></tr>\n",
       "</tbody>\n",
       "</table>\n"
      ],
      "text/latex": [
       "A data.table: 3 × 3\n",
       "\\begin{tabular}{lll}\n",
       " Economic State & Probability & Price in \\$\\\\\n",
       " <chr> & <dbl> & <dbl>\\\\\n",
       "\\hline\n",
       "\t Boom          & 0.3 &  98\\\\\n",
       "\t Normal Growth & 0.5 & 100\\\\\n",
       "\t Recession     & 0.2 & 103\\\\\n",
       "\\end{tabular}\n"
      ],
      "text/markdown": [
       "\n",
       "A data.table: 3 × 3\n",
       "\n",
       "| Economic State &lt;chr&gt; | Probability &lt;dbl&gt; | Price in $ &lt;dbl&gt; |\n",
       "|---|---|---|\n",
       "| Boom          | 0.3 |  98 |\n",
       "| Normal Growth | 0.5 | 100 |\n",
       "| Recession     | 0.2 | 103 |\n",
       "\n"
      ],
      "text/plain": [
       "  Economic State Probability Price in $\n",
       "1 Boom           0.3          98       \n",
       "2 Normal Growth  0.5         100       \n",
       "3 Recession      0.2         103       "
      ]
     },
     "metadata": {},
     "output_type": "display_data"
    }
   ],
   "source": [
    "uncertaintyTable <- data.table(`Economic State` = c(\"Boom\",\"Normal Growth\", \"Recession\"),\n",
    "                                `Probability` = c(.30,.50,.20),\n",
    "                                `Price in $` = c(98,100,103))\n",
    "uncertaintyTable                                "
   ]
  },
  {
   "cell_type": "markdown",
   "metadata": {},
   "source": [
    "## Module 2\n",
    "\n",
    "### Uncertain Payoffs\n",
    "\n",
    "* Consider a risky portfolio. The end-of-year cash flow from the portfolio will either be \\$5,000 or \\$15,000; with equal probabilities (50% each). The risk-free T-Bill rate is 5.5\\% annually\n",
    "* You require a return of 7\\% higher than the benchmark risk-free rate\n",
    "    - What is the expected portfolio payoff at year end?\n",
    "    - What is your total required rate of return?\n",
    "    - What is the present value of the portfolio?\n",
    "\n",
    "* Expected Portfolio payoff at years End:\n",
    "    - Take the probability weigheted returns and sum\n",
    "    - $(5,000 * .5) + (15,000 * .5) = 10,000$     \n",
    "\n",
    "\n",
    "* What is the total required rate of return?\n",
    "    - Risk-free rate plus required return\n",
    "    - $5.5\\% + 7\\% = 12.5\\%$\n",
    "\n",
    "* What is the PV of the portfolio?\n",
    "    - Discount Payoff at year end by one year using required rate of return as discount rate\n",
    "    - $\\frac{10,000}{(1+.125)^1} = 8,888$        "
   ]
  },
  {
   "cell_type": "markdown",
   "metadata": {},
   "source": [
    "### Drawing Indifference Curves\n",
    "\n",
    "* Indifference Curves are iso-utility curves. Any one curve shows **all the combinations of expected return and volatility that give the same constant utility value**\n",
    "* Start with the equation for the investor's utility, with a specific utility value, U\n",
    "* Select a specific expected value and solve for the volatility value that satisfies the equation\n",
    "    - Then choose another expected return value and find the volatility that solves that equation\n",
    "    - Plot all the E(r) volatility pairs to plot the indifference curve for that utility value, U\n",
    "\n",
    "* Example: Drawing Indifference Curve\n",
    "    - $U = E(r) - \\frac{1}{2}A\\sigma^{2}$\n",
    "    - Assume A = 5\n",
    "    - Target an indifference curve that corresponds to a Utility Value of 0.1\n",
    "        - $0.1 = E(r) - 2.5\\sigma^{2}$\n",
    "\n",
    "    - Solve for Volatility for a variety of different Expected Returns and Plot E(r) against Volatility\n",
    "            \n",
    "\n"
   ]
  },
  {
   "cell_type": "code",
   "execution_count": 23,
   "metadata": {
    "vscode": {
     "languageId": "r"
    }
   },
   "outputs": [
    {
     "name": "stderr",
     "output_type": "stream",
     "text": [
      "Warning message:\n",
      "“Removed 10 row(s) containing missing values (geom_path).”\n"
     ]
    },
    {
     "data": {
      "image/png": "[encoded data removed]",
      "text/plain": [
       "plot without title"
      ]
     },
     "metadata": {
      "image/png": {
       "height": 420,
       "width": 420
      }
     },
     "output_type": "display_data"
    }
   ],
   "source": [
    "indifferenceCurve <- function(A, Er, U){\n",
    "    sd = (-2*U + 2*Er)/A\n",
    "    vol = sqrt(sd)\n",
    "    vol\n",
    "}\n",
    "\n",
    "indifferenceCurveTable <- data.table(Er = seq(0,1,by = .01))\n",
    "suppressWarnings(indifferenceCurveTable[,vol := sapply(Er, FUN = function(x) indifferenceCurve(A = 5, U = .1, Er = x))])\n",
    "\n",
    "suppressWarnings(ggplot(indifferenceCurveTable) + aes(y = Er, x = vol) + geom_line(size = 0.5, colour = \"#112446\") + labs( title = \"Indifference Curve\", subtitle = \"Utility = 0.1, A = 5\" ) + theme_minimal())\n",
    "\n"
   ]
  },
  {
   "cell_type": "markdown",
   "metadata": {},
   "source": [
    "### Plot the Risky Opportunity Set (with Two Risky Assets)\n",
    "\n",
    "* With two risky assets, we know the expected portfolio return and volatility are given by these two equations\n",
    "    - $E(r_{p}) = w_{D}*E(r_{D}) + w_{E}*E(r_{E})$\n",
    "    - $\\sigma^{2}_{p} = w^{2}_{D}\\sigma{2}_{D} + w^{2}_{E}\\sigma^{2}_{E} + 2w_{D}w_{E}Cov(r_{D}r_{E})$\n",
    "\n",
    "* We also know that\n",
    "    - $ \\rho_{D,E} = \\frac{Cov(r_{D}r_{E})}{\\sigma_{D}\\sigma_{E}} $\n",
    "    - $ Cov(r_{D},r_{E}) = \\rho_{D,E}\\sigma_{D}\\sigma_{E} $\n",
    "\n",
    "* Example: Risky Opportunity Set Assumed Values\n",
    "    - $E(r_{D}) = 8\\%$\n",
    "    - $E(r_{E}) = 18\\%$\n",
    "    - $\\sigma_{D} = 14\\%$\n",
    "    - $\\sigma_{E} = 25\\%$\n",
    "    - $\\rho_{D,E} = 0.3$\n",
    "    - Calculate Covariance between the Stock Fund, E, and Bond Fund, D\n",
    "        - $ Cov(r_{D},r_{E}) = \\rho_{D,E}\\sigma_{D}\\sigma_{E} $\n",
    "        - = $0.3 * 0.14 * 0.25$\n",
    "        - = $0.0105$\n",
    "    \n",
    "    - Calculate Expected Returns and volatilities of the portfolio for various weight combinations $[w_{D},w_{E}]$\n",
    "        \n"
   ]
  },
  {
   "cell_type": "code",
   "execution_count": 40,
   "metadata": {
    "vscode": {
     "languageId": "r"
    }
   },
   "outputs": [
    {
     "data": {
      "text/html": [
       "<table class=\"dataframe\">\n",
       "<caption>A data.table: 11 × 4</caption>\n",
       "<thead>\n",
       "\t<tr><th scope=col>wD</th><th scope=col>wE</th><th scope=col>portfolioEr</th><th scope=col>portfolioVol</th></tr>\n",
       "\t<tr><th scope=col>&lt;dbl&gt;</th><th scope=col>&lt;dbl&gt;</th><th scope=col>&lt;dbl&gt;</th><th scope=col>&lt;dbl&gt;</th></tr>\n",
       "</thead>\n",
       "<tbody>\n",
       "\t<tr><td>0.00</td><td>1.00</td><td>0.180</td><td>0.2500000</td></tr>\n",
       "\t<tr><td>0.01</td><td>0.99</td><td>0.179</td><td>0.2479236</td></tr>\n",
       "\t<tr><td>0.02</td><td>0.98</td><td>0.178</td><td>0.2458545</td></tr>\n",
       "\t<tr><td>0.03</td><td>0.97</td><td>0.177</td><td>0.2437929</td></tr>\n",
       "\t<tr><td>0.04</td><td>0.96</td><td>0.176</td><td>0.2417390</td></tr>\n",
       "\t<tr><td>0.05</td><td>0.95</td><td>0.175</td><td>0.2396930</td></tr>\n",
       "\t<tr><td>0.06</td><td>0.94</td><td>0.174</td><td>0.2376551</td></tr>\n",
       "\t<tr><td>0.07</td><td>0.93</td><td>0.173</td><td>0.2356255</td></tr>\n",
       "\t<tr><td>0.08</td><td>0.92</td><td>0.172</td><td>0.2336045</td></tr>\n",
       "\t<tr><td>0.09</td><td>0.91</td><td>0.171</td><td>0.2315921</td></tr>\n",
       "\t<tr><td>0.10</td><td>0.90</td><td>0.170</td><td>0.2295888</td></tr>\n",
       "</tbody>\n",
       "</table>\n"
      ],
      "text/latex": [
       "A data.table: 11 × 4\n",
       "\\begin{tabular}{llll}\n",
       " wD & wE & portfolioEr & portfolioVol\\\\\n",
       " <dbl> & <dbl> & <dbl> & <dbl>\\\\\n",
       "\\hline\n",
       "\t 0.00 & 1.00 & 0.180 & 0.2500000\\\\\n",
       "\t 0.01 & 0.99 & 0.179 & 0.2479236\\\\\n",
       "\t 0.02 & 0.98 & 0.178 & 0.2458545\\\\\n",
       "\t 0.03 & 0.97 & 0.177 & 0.2437929\\\\\n",
       "\t 0.04 & 0.96 & 0.176 & 0.2417390\\\\\n",
       "\t 0.05 & 0.95 & 0.175 & 0.2396930\\\\\n",
       "\t 0.06 & 0.94 & 0.174 & 0.2376551\\\\\n",
       "\t 0.07 & 0.93 & 0.173 & 0.2356255\\\\\n",
       "\t 0.08 & 0.92 & 0.172 & 0.2336045\\\\\n",
       "\t 0.09 & 0.91 & 0.171 & 0.2315921\\\\\n",
       "\t 0.10 & 0.90 & 0.170 & 0.2295888\\\\\n",
       "\\end{tabular}\n"
      ],
      "text/markdown": [
       "\n",
       "A data.table: 11 × 4\n",
       "\n",
       "| wD &lt;dbl&gt; | wE &lt;dbl&gt; | portfolioEr &lt;dbl&gt; | portfolioVol &lt;dbl&gt; |\n",
       "|---|---|---|---|\n",
       "| 0.00 | 1.00 | 0.180 | 0.2500000 |\n",
       "| 0.01 | 0.99 | 0.179 | 0.2479236 |\n",
       "| 0.02 | 0.98 | 0.178 | 0.2458545 |\n",
       "| 0.03 | 0.97 | 0.177 | 0.2437929 |\n",
       "| 0.04 | 0.96 | 0.176 | 0.2417390 |\n",
       "| 0.05 | 0.95 | 0.175 | 0.2396930 |\n",
       "| 0.06 | 0.94 | 0.174 | 0.2376551 |\n",
       "| 0.07 | 0.93 | 0.173 | 0.2356255 |\n",
       "| 0.08 | 0.92 | 0.172 | 0.2336045 |\n",
       "| 0.09 | 0.91 | 0.171 | 0.2315921 |\n",
       "| 0.10 | 0.90 | 0.170 | 0.2295888 |\n",
       "\n"
      ],
      "text/plain": [
       "   wD   wE   portfolioEr portfolioVol\n",
       "1  0.00 1.00 0.180       0.2500000   \n",
       "2  0.01 0.99 0.179       0.2479236   \n",
       "3  0.02 0.98 0.178       0.2458545   \n",
       "4  0.03 0.97 0.177       0.2437929   \n",
       "5  0.04 0.96 0.176       0.2417390   \n",
       "6  0.05 0.95 0.175       0.2396930   \n",
       "7  0.06 0.94 0.174       0.2376551   \n",
       "8  0.07 0.93 0.173       0.2356255   \n",
       "9  0.08 0.92 0.172       0.2336045   \n",
       "10 0.09 0.91 0.171       0.2315921   \n",
       "11 0.10 0.90 0.170       0.2295888   "
      ]
     },
     "metadata": {},
     "output_type": "display_data"
    },
    {
     "data": {
      "text/html": [
       "<table class=\"dataframe\">\n",
       "<caption>A data.table: 11 × 4</caption>\n",
       "<thead>\n",
       "\t<tr><th scope=col>wD</th><th scope=col>wE</th><th scope=col>portfolioEr</th><th scope=col>portfolioVol</th></tr>\n",
       "\t<tr><th scope=col>&lt;dbl&gt;</th><th scope=col>&lt;dbl&gt;</th><th scope=col>&lt;dbl&gt;</th><th scope=col>&lt;dbl&gt;</th></tr>\n",
       "</thead>\n",
       "<tbody>\n",
       "\t<tr><td>0.90</td><td>0.10</td><td>0.090</td><td>0.1356134</td></tr>\n",
       "\t<tr><td>0.91</td><td>0.09</td><td>0.089</td><td>0.1358562</td></tr>\n",
       "\t<tr><td>0.92</td><td>0.08</td><td>0.088</td><td>0.1361435</td></tr>\n",
       "\t<tr><td>0.93</td><td>0.07</td><td>0.087</td><td>0.1364749</td></tr>\n",
       "\t<tr><td>0.94</td><td>0.06</td><td>0.086</td><td>0.1368501</td></tr>\n",
       "\t<tr><td>0.95</td><td>0.05</td><td>0.085</td><td>0.1372689</td></tr>\n",
       "\t<tr><td>0.96</td><td>0.04</td><td>0.084</td><td>0.1377308</td></tr>\n",
       "\t<tr><td>0.97</td><td>0.03</td><td>0.083</td><td>0.1382353</td></tr>\n",
       "\t<tr><td>0.98</td><td>0.02</td><td>0.082</td><td>0.1387820</td></tr>\n",
       "\t<tr><td>0.99</td><td>0.01</td><td>0.081</td><td>0.1393704</td></tr>\n",
       "\t<tr><td>1.00</td><td>0.00</td><td>0.080</td><td>0.1400000</td></tr>\n",
       "</tbody>\n",
       "</table>\n"
      ],
      "text/latex": [
       "A data.table: 11 × 4\n",
       "\\begin{tabular}{llll}\n",
       " wD & wE & portfolioEr & portfolioVol\\\\\n",
       " <dbl> & <dbl> & <dbl> & <dbl>\\\\\n",
       "\\hline\n",
       "\t 0.90 & 0.10 & 0.090 & 0.1356134\\\\\n",
       "\t 0.91 & 0.09 & 0.089 & 0.1358562\\\\\n",
       "\t 0.92 & 0.08 & 0.088 & 0.1361435\\\\\n",
       "\t 0.93 & 0.07 & 0.087 & 0.1364749\\\\\n",
       "\t 0.94 & 0.06 & 0.086 & 0.1368501\\\\\n",
       "\t 0.95 & 0.05 & 0.085 & 0.1372689\\\\\n",
       "\t 0.96 & 0.04 & 0.084 & 0.1377308\\\\\n",
       "\t 0.97 & 0.03 & 0.083 & 0.1382353\\\\\n",
       "\t 0.98 & 0.02 & 0.082 & 0.1387820\\\\\n",
       "\t 0.99 & 0.01 & 0.081 & 0.1393704\\\\\n",
       "\t 1.00 & 0.00 & 0.080 & 0.1400000\\\\\n",
       "\\end{tabular}\n"
      ],
      "text/markdown": [
       "\n",
       "A data.table: 11 × 4\n",
       "\n",
       "| wD &lt;dbl&gt; | wE &lt;dbl&gt; | portfolioEr &lt;dbl&gt; | portfolioVol &lt;dbl&gt; |\n",
       "|---|---|---|---|\n",
       "| 0.90 | 0.10 | 0.090 | 0.1356134 |\n",
       "| 0.91 | 0.09 | 0.089 | 0.1358562 |\n",
       "| 0.92 | 0.08 | 0.088 | 0.1361435 |\n",
       "| 0.93 | 0.07 | 0.087 | 0.1364749 |\n",
       "| 0.94 | 0.06 | 0.086 | 0.1368501 |\n",
       "| 0.95 | 0.05 | 0.085 | 0.1372689 |\n",
       "| 0.96 | 0.04 | 0.084 | 0.1377308 |\n",
       "| 0.97 | 0.03 | 0.083 | 0.1382353 |\n",
       "| 0.98 | 0.02 | 0.082 | 0.1387820 |\n",
       "| 0.99 | 0.01 | 0.081 | 0.1393704 |\n",
       "| 1.00 | 0.00 | 0.080 | 0.1400000 |\n",
       "\n"
      ],
      "text/plain": [
       "   wD   wE   portfolioEr portfolioVol\n",
       "1  0.90 0.10 0.090       0.1356134   \n",
       "2  0.91 0.09 0.089       0.1358562   \n",
       "3  0.92 0.08 0.088       0.1361435   \n",
       "4  0.93 0.07 0.087       0.1364749   \n",
       "5  0.94 0.06 0.086       0.1368501   \n",
       "6  0.95 0.05 0.085       0.1372689   \n",
       "7  0.96 0.04 0.084       0.1377308   \n",
       "8  0.97 0.03 0.083       0.1382353   \n",
       "9  0.98 0.02 0.082       0.1387820   \n",
       "10 0.99 0.01 0.081       0.1393704   \n",
       "11 1.00 0.00 0.080       0.1400000   "
      ]
     },
     "metadata": {},
     "output_type": "display_data"
    }
   ],
   "source": [
    "riskyOpportunitySetTable <- data.table(wD = seq(0,1,by = .01))\n",
    "riskyOpportunitySetTable[,wE := 1-wD]\n",
    "\n",
    "portfolioExpectedReturns <- function(wD,ErD,ErE){\n",
    "    wE = 1-wD\n",
    "    ErP = ( wD * ErD ) + ( wE * ErE )\n",
    "    ErP\n",
    "}\n",
    "\n",
    "portfolioVariance <- function(wD,sigmaD,sigmaE,covDE){\n",
    "    wE = 1 - wD\n",
    "    sd = ( (wD^2) * (sigmaD^2) ) + ( (wE^2) * (sigmaE^2) ) + ( 2 * wD * wE * covDE)\n",
    "    vol = sqrt(sd)\n",
    "    vol\n",
    "}\n",
    "\n",
    "riskyOpportunitySetTable[,portfolioEr := sapply(wD, FUN = function(x) portfolioExpectedReturns(wD = x, ErD = .08, ErE = .18) )]\n",
    "riskyOpportunitySetTable[,portfolioVol := sapply(wD, FUN = function(x) portfolioVariance(wD = x, sigmaD = .14, sigmaE = .25, covDE = .0105) )]\n",
    "head(riskyOpportunitySetTable,11)\n",
    "tail(riskyOpportunitySetTable,11)\n"
   ]
  },
  {
   "cell_type": "code",
   "execution_count": 44,
   "metadata": {
    "vscode": {
     "languageId": "r"
    }
   },
   "outputs": [
    {
     "data": {
      "image/png": "[encoded data removed]",
      "text/plain": [
       "plot without title"
      ]
     },
     "metadata": {
      "image/png": {
       "height": 420,
       "width": 420
      }
     },
     "output_type": "display_data"
    }
   ],
   "source": [
    "ggplot(riskyOpportunitySetTable) + aes(x = portfolioVol, y = portfolioEr, colour = wD) + geom_point(shape = \"circle\", size = 1.5) + scale_color_gradient() + labs( x = \"Portfolio Volatility\", y = \"Portfolio Expected Return\", title = \"Portfolio Expected Return for Portfolio Volatility\", subtitle = \"Portfolio Volatility determined by weights of stock and bond funds\", color = \"weight of the Bond Fund\" ) + theme_minimal()"
   ]
  },
  {
   "cell_type": "markdown",
   "metadata": {},
   "source": [
    "## Module 3\n",
    "\n",
    "### Perpetuities\n",
    "* Perpetuity is an _infinite stream_ of equal cash flows, received or paid at equal time intervals\n",
    "* Perpetuities are perpetual, their cash flows never end; they continue to infinity\n",
    "* The Classic example of an infinite cash flow stream is the dividend payment pattern from stock ownership\n",
    "\n",
    "* The present value of a constant and infinite cash flow stream is given by the formula:\n",
    "    - $ PV(perpetuity) = \\frac{D}{r} $\n",
    "    - Where D stands for annual cash flow\n",
    "    - r is the discount rate\n",
    "\n",
    "* The present value of an infinite cash flow, C, stream growing at the rate g is:\n",
    "    - $ PV(growing perpetuity) = \\frac{D}{r-g} $\n",
    "    - where g is the growth rate\n",
    "\n",
    "#### Perpetuity Example\n",
    "* A stock is expected to pay an infinite stream of \\$1.50 dividends. The discount rate reflecting the risk of the cash flows is 10\\%\n",
    "* What is the present value (or fair value) of this infinite cash flow stream?\n",
    "    - $P_{0} = PV = \\frac{1.50}{.10} = \\$15 $\n",
    "* This suggests the fair value of the stock is \\$15\n",
    "\n",
    "* What is the fair value if the dividend grows after a year by 2\\% annually thereafter?\n",
    "    - $P_{0} = PV = \\frac{1.50}{.10 - .02} = \\$18.75 $\n",
    "\n",
    "#### Perpetuity Example 2\n",
    "* Suppose the market price of a stock is $42. THe firm pays out all of its earnings every year as dividends, and expects that the amount to remain fixed at $3 annually. What is the implied discount rate applied by the market?\n",
    "    - $ \\$42 = \\frac{3}{r} $\n",
    "    - $ r = 7.14\\% $\n",
    "\n",
    "### CAPM Example\n",
    "* Suppose the following:\n",
    "    - XYZ stock has a beta of 1.2\n",
    "    - ABC stock has a beta of 0.9\n",
    "    - Risk-free rate is 6\\%\n",
    "    - Expected market return is 9.3\\%\n",
    "* What is the fair expected return for each stock according to CAPM?\n",
    "\n",
    "* $ E(r_{i}) = r_{f} + \\beta_{i}[E(r_{M} - r_{f})] $\n",
    "\n",
    "    - for stock XYZ: $E(r_{i}) = .06 + ( 1.2 * (.093 - .06) ) = 9.96\\%$\n",
    "    - for stock ABC: $E(r_{i}) = .06 + ( 0.9 * (.093 - .06) ) = 8.97\\%$\n",
    "             \n",
    "### The Security Market Line\n",
    "* Security Market Line (SML) is the relationship between expected return and beta\n",
    "* Example:\n",
    "    - Assume the risk-free rate is 6\\%\n",
    "    - Assume the expected market return is 9.3\\%\n",
    "    - What is the SML?    "
   ]
  },
  {
   "cell_type": "code",
   "execution_count": 55,
   "metadata": {
    "vscode": {
     "languageId": "r"
    }
   },
   "outputs": [
    {
     "data": {
      "text/html": [
       "<table class=\"dataframe\">\n",
       "<caption>A data.table: 10 × 2</caption>\n",
       "<thead>\n",
       "\t<tr><th scope=col>beta</th><th scope=col>Er</th></tr>\n",
       "\t<tr><th scope=col>&lt;dbl&gt;</th><th scope=col>&lt;dbl&gt;</th></tr>\n",
       "</thead>\n",
       "<tbody>\n",
       "\t<tr><td>0.00</td><td>0.06000</td></tr>\n",
       "\t<tr><td>0.01</td><td>0.06033</td></tr>\n",
       "\t<tr><td>0.02</td><td>0.06066</td></tr>\n",
       "\t<tr><td>0.03</td><td>0.06099</td></tr>\n",
       "\t<tr><td>0.04</td><td>0.06132</td></tr>\n",
       "\t<tr><td>0.05</td><td>0.06165</td></tr>\n",
       "\t<tr><td>0.06</td><td>0.06198</td></tr>\n",
       "\t<tr><td>0.07</td><td>0.06231</td></tr>\n",
       "\t<tr><td>0.08</td><td>0.06264</td></tr>\n",
       "\t<tr><td>0.09</td><td>0.06297</td></tr>\n",
       "</tbody>\n",
       "</table>\n"
      ],
      "text/latex": [
       "A data.table: 10 × 2\n",
       "\\begin{tabular}{ll}\n",
       " beta & Er\\\\\n",
       " <dbl> & <dbl>\\\\\n",
       "\\hline\n",
       "\t 0.00 & 0.06000\\\\\n",
       "\t 0.01 & 0.06033\\\\\n",
       "\t 0.02 & 0.06066\\\\\n",
       "\t 0.03 & 0.06099\\\\\n",
       "\t 0.04 & 0.06132\\\\\n",
       "\t 0.05 & 0.06165\\\\\n",
       "\t 0.06 & 0.06198\\\\\n",
       "\t 0.07 & 0.06231\\\\\n",
       "\t 0.08 & 0.06264\\\\\n",
       "\t 0.09 & 0.06297\\\\\n",
       "\\end{tabular}\n"
      ],
      "text/markdown": [
       "\n",
       "A data.table: 10 × 2\n",
       "\n",
       "| beta &lt;dbl&gt; | Er &lt;dbl&gt; |\n",
       "|---|---|\n",
       "| 0.00 | 0.06000 |\n",
       "| 0.01 | 0.06033 |\n",
       "| 0.02 | 0.06066 |\n",
       "| 0.03 | 0.06099 |\n",
       "| 0.04 | 0.06132 |\n",
       "| 0.05 | 0.06165 |\n",
       "| 0.06 | 0.06198 |\n",
       "| 0.07 | 0.06231 |\n",
       "| 0.08 | 0.06264 |\n",
       "| 0.09 | 0.06297 |\n",
       "\n"
      ],
      "text/plain": [
       "   beta Er     \n",
       "1  0.00 0.06000\n",
       "2  0.01 0.06033\n",
       "3  0.02 0.06066\n",
       "4  0.03 0.06099\n",
       "5  0.04 0.06132\n",
       "6  0.05 0.06165\n",
       "7  0.06 0.06198\n",
       "8  0.07 0.06231\n",
       "9  0.08 0.06264\n",
       "10 0.09 0.06297"
      ]
     },
     "metadata": {},
     "output_type": "display_data"
    },
    {
     "data": {
      "image/png": "[encoded data removed]",
      "text/plain": [
       "plot without title"
      ]
     },
     "metadata": {
      "image/png": {
       "height": 420,
       "width": 420
      }
     },
     "output_type": "display_data"
    }
   ],
   "source": [
    "securityMarketLine <- data.table(beta = seq(0,5,by = .01))\n",
    "securityMarketLine[, Er := (.06 + (beta * (.093 - .06))) ]\n",
    "\n",
    "head(securityMarketLine,10)\n",
    "ggplot(securityMarketLine) + aes(x = beta, y = Er) + geom_point(shape = \"circle\", size = 1.5, colour = \"#34780B\") + labs( x = \"beta\", y = \"Expected Return\", title = \"Security Market Line\", caption = \"Y-Intercept at 6% is risk-free rate\" ) + theme_minimal()"
   ]
  },
  {
   "cell_type": "markdown",
   "metadata": {},
   "source": [
    "### Dividend Discount Model\n",
    "\n",
    "* ACME Inc. currently pays a $2 annual dividend which is expected to grow at 7% annually for the next three years and 2% thereafter\n",
    "* Expected dividends for the next 5 years:\n"
   ]
  },
  {
   "cell_type": "code",
   "execution_count": 83,
   "metadata": {
    "vscode": {
     "languageId": "r"
    }
   },
   "outputs": [
    {
     "data": {
      "text/html": [
       "<table class=\"dataframe\">\n",
       "<caption>A data.table: 6 × 4</caption>\n",
       "<thead>\n",
       "\t<tr><th scope=col>Time</th><th scope=col>dividendGrowth</th><th scope=col>dividendGrowthSpot</th><th scope=col>dividend</th></tr>\n",
       "\t<tr><th scope=col>&lt;int&gt;</th><th scope=col>&lt;dbl&gt;</th><th scope=col>&lt;dbl&gt;</th><th scope=col>&lt;dbl&gt;</th></tr>\n",
       "</thead>\n",
       "<tbody>\n",
       "\t<tr><td>0</td><td>1.000000</td><td>0.000000</td><td>2.000000</td></tr>\n",
       "\t<tr><td>1</td><td>1.070000</td><td>0.140000</td><td>2.140000</td></tr>\n",
       "\t<tr><td>2</td><td>1.144900</td><td>0.289800</td><td>2.289800</td></tr>\n",
       "\t<tr><td>3</td><td>1.225043</td><td>0.450086</td><td>2.450086</td></tr>\n",
       "\t<tr><td>4</td><td>1.020000</td><td>0.490086</td><td>2.490086</td></tr>\n",
       "\t<tr><td>5</td><td>1.040400</td><td>0.530886</td><td>2.530886</td></tr>\n",
       "</tbody>\n",
       "</table>\n"
      ],
      "text/latex": [
       "A data.table: 6 × 4\n",
       "\\begin{tabular}{llll}\n",
       " Time & dividendGrowth & dividendGrowthSpot & dividend\\\\\n",
       " <int> & <dbl> & <dbl> & <dbl>\\\\\n",
       "\\hline\n",
       "\t 0 & 1.000000 & 0.000000 & 2.000000\\\\\n",
       "\t 1 & 1.070000 & 0.140000 & 2.140000\\\\\n",
       "\t 2 & 1.144900 & 0.289800 & 2.289800\\\\\n",
       "\t 3 & 1.225043 & 0.450086 & 2.450086\\\\\n",
       "\t 4 & 1.020000 & 0.490086 & 2.490086\\\\\n",
       "\t 5 & 1.040400 & 0.530886 & 2.530886\\\\\n",
       "\\end{tabular}\n"
      ],
      "text/markdown": [
       "\n",
       "A data.table: 6 × 4\n",
       "\n",
       "| Time &lt;int&gt; | dividendGrowth &lt;dbl&gt; | dividendGrowthSpot &lt;dbl&gt; | dividend &lt;dbl&gt; |\n",
       "|---|---|---|---|\n",
       "| 0 | 1.000000 | 0.000000 | 2.000000 |\n",
       "| 1 | 1.070000 | 0.140000 | 2.140000 |\n",
       "| 2 | 1.144900 | 0.289800 | 2.289800 |\n",
       "| 3 | 1.225043 | 0.450086 | 2.450086 |\n",
       "| 4 | 1.020000 | 0.490086 | 2.490086 |\n",
       "| 5 | 1.040400 | 0.530886 | 2.530886 |\n",
       "\n"
      ],
      "text/plain": [
       "  Time dividendGrowth dividendGrowthSpot dividend\n",
       "1 0    1.000000       0.000000           2.000000\n",
       "2 1    1.070000       0.140000           2.140000\n",
       "3 2    1.144900       0.289800           2.289800\n",
       "4 3    1.225043       0.450086           2.450086\n",
       "5 4    1.020000       0.490086           2.490086\n",
       "6 5    1.040400       0.530886           2.530886"
      ]
     },
     "metadata": {},
     "output_type": "display_data"
    }
   ],
   "source": [
    "divDiscountModelTable <- data.table(Time = 0:5)\n",
    "divDiscountModelTable[1:4,dividendGrowth := (1.07^Time)]\n",
    "divDiscountModelTable[5:6,dividendGrowth := (1.02^(Time-3))]\n",
    "divDiscountModelTable[,dividendGrowthSpot := (dividendGrowth - 1) * 2]\n",
    "divDiscountModelTable[5:6,dividendGrowthSpot := dividendGrowthSpot + divDiscountModelTable[4,]$dividendGrowthSpot]\n",
    "divDiscountModelTable[,dividend := dividendGrowthSpot + 2]\n",
    "\n",
    "\n",
    "divDiscountModelTable"
   ]
  },
  {
   "cell_type": "markdown",
   "metadata": {},
   "source": [
    "### Free Cash Flow Valuation Example\n",
    "\n",
    "* Excalibur LLC's cash from operations before interest and taxes is \\$2 million, and it expects this will grow at 5\\% forever. To make this happen going forward the firm must invest an amount equal to 20\\% of pre-tax cash flow each year. Tax rate is 35\\%. Depreciation was \\$200,000 in the year just ended and is expected to grow at the same rate as the operating cash flow. The appropiate market capitalization rate for the unlevereged cash flow is 12\\% per year, and the firm currently has sebt of \\$4 million outstanding. Use the free cash flow approach to value the firm's equity\n",
    "\n",
    "|One Year from Now | Cash flow |\n",
    "|----------|-----------|\n",
    "|Before-tax cash flow from operations ($2 million plus 5\\%) | \\$2,100,000\n",
    "| Depreciation | 210,000 |\n",
    "| Taxable Income | 1,890,000 |\n",
    "| Taxes (@35%) | 661,500 |\n",
    "| After-tax unleveraged income | 1,228,500 |\n",
    "| Free Cash Flow after Depreciation (After-tax unleveraged income + depreciation) | 1,420,000 |\n",
    "| New Investment (20\\% of cash flow from operations) | 420,000 |\n",
    "| Free-cash flow (After-tax cash flow from operations - new investments) | 1,018,500 |\n",
    "\n",
    "\n",
    "* The value of the enterprise:\n",
    "\n",
    "    - $V_{o} = \\frac{C_{1}}{k-g} = \\frac{1,018,500}{0.12 - 0.05} = \\$14,550,000$\n",
    "    - Since the value of debt is \\$4 million, the value of equity = \\$10,550,000\n",
    "    \n",
    "\n"
   ]
  },
  {
   "cell_type": "markdown",
   "metadata": {},
   "source": [
    "## Module 4\n",
    "\n",
    "### Risk Premiums\n",
    "\n",
    "* Solve for the two factor risk premiums\n",
    "* Suppose there are two independent economic factors, F1 and F2. The risk-free rate is 3%. All stocks have independent firm-specific components. Portfolio C and D are both well diversified and fairly priced, with these inputs:\n",
    "\n",
    "| Portfolio | Beta on $F_{1}$ | Beta on $F_{2}$ | Expected Return |\n",
    "|------------|-------------|-------------|-------------|\n",
    "| C | 2 | -1.6 | 24% |\n",
    "| D | 1 | 2.4 | 19% |\n",
    "\n",
    "* With two risky assets, we know the expected portfolio return are given by the following equations based on multi-factor model:\n",
    "\n",
    "    - $.24 = .03 + 2(E(r_{1}) - r_{f}) - 1.6(E(r_{2}) - r_{f})$\n",
    "    - $.19 = .03 + 1(E(r_{1}) - r_{f}) + 2.4(E(r_{2}) - r_{f})$\n",
    "\n"
   ]
  },
  {
   "cell_type": "markdown",
   "metadata": {},
   "source": []
  }
 ],
 "metadata": {
  "kernelspec": {
   "display_name": "R",
   "language": "R",
   "name": "ir"
  },
  "language_info": {
   "codemirror_mode": "r",
   "file_extension": ".r",
   "mimetype": "text/x-r-source",
   "name": "R",
   "pygments_lexer": "r",
   "version": "4.1.2"
  },
  "orig_nbformat": 4
 },
 "nbformat": 4,
 "nbformat_minor": 2
}

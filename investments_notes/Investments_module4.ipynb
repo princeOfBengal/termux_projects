{
 "cells": [
  {
   "cell_type": "markdown",
   "metadata": {},
   "source": [
    "# Investments Module 4"
   ]
  },
  {
   "cell_type": "markdown",
   "metadata": {
    "vscode": {
     "languageId": "r"
    }
   },
   "source": [
    "## Single-Factor Models\n",
    "\n",
    "* Returns on a security come from two sources:\n",
    "    - common macro-economic factor\n",
    "        - Examples: GDP, interest rates, oil prices\n",
    "    - Firm specific events\n",
    "\n",
    "* Single-Factor Model of Excess Returns\n",
    "    - $R_{i} = E(R_{i}) + B_{i}F + e_{i}$\n",
    "\n",
    "    - $R_{i}$ = excess return on security i\n",
    "    - $E(R_{i})$ = expected excess return on stock i\n",
    "    - $B_{i}$ = sensitivitiy of firm i to the common factor F\n",
    "    - $F$ = Deviation of the common factor from its expected value\n",
    "    - $e_{i}$ nonsystematic components of returns\n",
    "\n",
    "* Single-Factor model can be CAPM if the F factor is market returns\n",
    "* Example: F represents _news_ about the state of the business cycle, measured by unexpected GDP change\n",
    "    - Consensus is that GDP will decrease by 4% this year, and beta is 1.2\n",
    "    - If GDP increases only by 3%, the value of F is -1 (3-4)\n",
    "    - This lowers the returns by 1.2% (-1% * 1.2). Once the firm-specific disturbance is added for this period, we would have the total departure of stock value from its expected value\n",
    "\n",
    "## Multifactor Models\n",
    "\n",
    "* Multifactor models posit that returns respond to several systematic risk factors, as well as firm-specific influences\n",
    "\n",
    "## Arbitrage Pricing Theory (APT)\n",
    "\n",
    "* Arbitrage occurs when there's a zero-investment portfolio with a sure profit (zero net expenditure required; usually achieved by buying some securities and selling others simultaneously)\n",
    "\n",
    "    - With no net investments, investors can create large positions to obtain large profits\n",
    "    - All investors will want an infinite position in the risk-free arbitrage portfolio\n",
    "    - In effecient markets, profitable arbitrage opportunities will quickly disappear\n",
    "\n",
    "* Law of one price: Enforced by arbitrageurs; if they observe a violation they will engage in arbitrage activity\n",
    "\n",
    "## Well-Diversified Portfolios\n",
    "\n",
    "* All well-diversified portfolios with the same beta must have the same expected return\n",
    "    - Otherwise, an arbitrage opportunity will exist, and it will be wiped out by market participants\n",
    "\n",
    "\n",
    "\n"
   ]
  }
 ],
 "metadata": {
  "kernelspec": {
   "display_name": "R",
   "language": "R",
   "name": "ir"
  },
  "language_info": {
   "name": "R"
  },
  "orig_nbformat": 4
 },
 "nbformat": 4,
 "nbformat_minor": 2
}

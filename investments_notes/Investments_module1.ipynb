{
 "cells": [
  {
   "cell_type": "markdown",
   "id": "754c73c9-9177-4361-8c4a-553af3756f5f",
   "metadata": {
    "tags": []
   },
   "source": [
    "## Investments Module 1"
   ]
  },
  {
   "cell_type": "markdown",
   "id": "00198266-9e9b-459b-849b-970ef1fbb4c4",
   "metadata": {
    "tags": []
   },
   "source": [
    "##### Interest Rate\n",
    "\n",
    "* The price of money\n",
    "* May be the price we pay or want to earn\n",
    "* Varys as demand for or supply of money changes\n",
    "\n",
    "* Supply of money: Households (deposit in banks)\n",
    "* Demand for money: Households, Businesses\n",
    "* Government's net demand for money\n",
    "    - Borrowing\n",
    "    - Impacts rates through FRB\n",
    "    \n",
    "###### Real vs. Nominal Interest Rate\n",
    "* Nominal Interest rate: growth of your money\n",
    "* Real Interest rate: growth of purchasing power\n",
    "* Inflation rate: Growth in the Consumer Price Index (CPI)\n",
    "\n",
    "* Relation between real vs nominal rates:\n",
    "\n",
    "$(1+r_{nom}) = (1+r_{real})(1+i)$\n",
    "\n",
    "$r_{real} = \\frac{r_{nom} - i}{1 + i}$\n",
    "\n",
    "$r_{nom} = $ Nominal Interest Rate\n",
    "\n",
    "$r_{real} = $ Real Interest Rate\n",
    "\n",
    "$i = $ Inflation Rate\n",
    "\n",
    "* Approximation: $r_{real} \\approx r_{nom} - i$\n",
    "    - approximation is best for small interest rates\n",
    "\n",
    "\n",
    "\n",
    "\n",
    "\n",
    "\n"
   ]
  },
  {
   "cell_type": "markdown",
   "id": "860cdb99-9aa8-49fd-8524-571100d747e1",
   "metadata": {},
   "source": [
    "###### Equilibrium Nominal Rate of Interest\n",
    "\n",
    "* As inflation increases, investors will demand higher rates of nominal return\n",
    "\n",
    "* If $E(i)$ denotes current explectations of inflation, then we get the Fisher Equation:\n",
    "\n",
    "    $r_{nom} = r_{real} + E(i)$\n",
    "\n",
    "* Predicts that the nominal interest rate should track the inflationrate, leaving real rate somewhat stable\n",
    "\n",
    "* Works bestwhen inflation is predictable and investors can more accurately guage the nominal interest rate they require to provide an acceptable rate of return\n",
    "\n",
    "\n",
    "        \n"
   ]
  },
  {
   "cell_type": "markdown",
   "id": "8c35995f-243d-459e-bbf0-762bade988ff",
   "metadata": {},
   "source": [
    "##### Relating Return to Price\n",
    "\n",
    "* What is the total return on an investment that pays \\\\$100 in $T$ years, and currently has a market price of $P$? Assume there is no risk. Also assume investment is a zero coupon bond.\n",
    "\n",
    "* Solution: use time value money concept\n",
    "\n",
    "    $P(T) = \\frac{100}{1 + r_{f}(T)}$\n",
    "    \n",
    "    Solve for $r_{f}(T)$\n",
    "\n"
   ]
  },
  {
   "cell_type": "markdown",
   "id": "1a320452-d8f1-4df0-9e4c-123b1fd9962a",
   "metadata": {},
   "source": [
    "##### Rates of Return for Different Holding Periods\n",
    "\n",
    "* Rearrange equation to solve for $r_{f}(T)$\n",
    "\n",
    "    $r_{f}(T) = \\frac{100}{P(T)} - 1$\n",
    "    \n",
    "* $P(T)$ can be easily found using bloomberg\n",
    "\n",
    "ex price table:\n",
    "\n",
    "| Horizon (T) | Price P(T) | \\[100/P(T)\\] - 1 | Total Return for Given Horizon |\n",
    "| ----------- | ----------- | ----------- | ----------- |\n",
    "| 6 Months | \\\\$97.36 | (100 / 97.36) - 1 = 0.0271 | $r_{f}(0.5) = 2.71% $ |\n",
    "| 1 Year | \\\\$95.52 | (100/95.52) - 1 = 0.0469 | $r_{f}(1) = 4.69% $ |\n",
    "| 25 Years | \\\\$23.30 | (100/23.30) - 1 = 3.2918 | $r_{f}(25) = 329.18% $ |\n",
    "\n",
    "    \n",
    "\n"
   ]
  },
  {
   "cell_type": "markdown",
   "id": "f97c221e-7bbc-41fd-9a8a-a9b46f0f4aaf",
   "metadata": {},
   "source": [
    "###### Effective Annual Rate (EAR)\n",
    "\n",
    "* The returns in the table above are total returns for the time horizon and are not compareable to each other\n",
    "\n",
    "* To compare them, you need to annualize them and look at the return for 1 year\n",
    "\n",
    "* EAR equation:\n",
    "\n",
    "    $(1+ EAR) = (1+r_{f}(T))^{\\frac{1}{T}}$\n",
    "\n",
    "* Apply EAR equation to the 6-month and 25 yr rates in the table above to make them compareable\n",
    "\n",
    "    $(1 + EAR) = (1+.0469)^{\\frac{1}{0.5}} = 5.49\\%$\n",
    "\n",
    "    $(1 + EAR) = (1+3.2918)^{\\frac{1}{25}} = 6.0\\%$\n",
    "\n"
   ]
  },
  {
   "cell_type": "markdown",
   "id": "d8ac618d-67a2-40d4-ae9d-32cdf2ae5101",
   "metadata": {
    "tags": []
   },
   "source": [
    "###### Effective Annual Rate (EAR) vs. Annualized Percentage Rate (APR)\n",
    "\n",
    "* EAR takes into account compounded interest rates, APR uses simple interest\n",
    "\n",
    "* EAR equation has an exponent component to take into account compounded interest, whereas APR equation is basically just the average interest rate across time\n",
    "\n",
    "\n",
    "    EAR: $1 + EAR = (1 + r_{f}(T))^{\\frac{1}{T}}$\n",
    "    \n",
    "    APR: $APR = \\frac{(1 + EAR)^{T} - 1}{T} = \\frac{r_{f}(T)}{T}$\n",
    "\n",
    "\n",
    "\n"
   ]
  },
  {
   "cell_type": "markdown",
   "id": "e7a0e4de-0353-4436-812e-eb2eedfaa401",
   "metadata": {},
   "source": [
    "###### Single Period Returns - Historical\n",
    "\n",
    "$HPR = \\frac{P_{1}-P_{0}+D_{1}}{P_{0}}$\n",
    "\n",
    "   - $HPR$ = Holding Period\n",
    "   - $P_{0}$ = Beginning Price\n",
    "   - $P_{1}$ = Ending Price\n",
    "   - $D_{1}$ = Dividend received during period one (assume dividend received just before t = 1)\n",
    "\n",
    "\n",
    "###### Single Period Returns - Forecasts\n",
    "\n",
    "* For when we are forecasting returns into the future, there is no ending price or future dividend to look up; use different formula\n",
    "\n",
    "$HPR = \\frac{ E(P_{1}) - P_{0} + E(D_{1}) }{P_{0}}$\n",
    "\n",
    "   - $HPR$ = Holding Period\n",
    "   - $P_{0}$ = Beginning Price\n",
    "   - $E(P_{1})$ = Expected Ending Price\n",
    "   - $E(D_{1})$ = Expected Dividend during period one \n",
    "\n",
    "   \n",
    "   \n"
   ]
  },
  {
   "cell_type": "markdown",
   "id": "2927173b-2093-49bc-bf42-7eed73c0263b",
   "metadata": {},
   "source": [
    "##### Rates of Return for Different Economic Environments\n",
    "\n",
    "* For a 1 year forward period, there may be economic uncertainty which may effect the expected return\n",
    "\n",
    "* Expected return across all possible scenarios:\n",
    "\n",
    "$E(r) = \\sum{p(s) * r(s)}$\n",
    "\n",
    " - $p(s)$ = Probability of a scenario\n",
    " - $r(s)$ = return under state _s_\n",
    "\n",
    "###### Variance and Standard Deviation\n",
    "\n",
    "Variance (VAR): \n",
    "\n",
    "$\\sigma^{2} = \\sum_{s}{p(s) * [r(s) - E(r)]^{2} } $\n",
    "\n",
    "Standard Deviation:\n",
    "\n",
    "$STD = \\sqrt{\\sigma^{2}}$\n",
    "\n",
    "\n"
   ]
  },
  {
   "cell_type": "markdown",
   "id": "509f46b4-a00d-40a2-b822-44dd0651de47",
   "metadata": {},
   "source": [
    "###### Returns Example\n",
    "\n",
    "| Scenario | Prob of Scenario | return in Scenario|\n",
    "| ----------- | ----------- | ----------- |\n",
    "| Excellent | 0.25 | 0.3100 |\n",
    "| Good | 0.45 | 0.1400 |\n",
    "| Poor | 0.25 | -0.0675 |\n",
    "| Crash | 0.05 | -0.5200 |\n",
    "\n",
    "\n",
    "$E(r) = (.25)*(.31) + (.45) * (.14) + (.25) * (-0.0675) + (.05) * (-0.52)$\n",
    "\n",
    "$E(r) = 9.76\\%$\n",
    "\n",
    "VAR calculation:\n",
    "\n",
    "* measuring distance from all returns and the mean of all returns then weighting them by probability\n",
    "\n",
    "$VAR = [(.25) * (.31 - .096)^{2}] + [(.45) * (.14 - .0976)^{2}] + [(.25) * (-.0676 - .0976)^{2}] + [(.05) * (-.52 - .0976)^{2}]$\n",
    "\n",
    "$VAR = .038$\n",
    "\n",
    "Standarde Deviation Calc:\n",
    "\n",
    "$\\sigma = \\sqrt{0.38}$\n",
    "\n",
    "$\\sigma = .1949$\n",
    "\n",
    "\n",
    "\n",
    "\n",
    "\n",
    "\n",
    "\n"
   ]
  },
  {
   "cell_type": "markdown",
   "id": "0a484789-a490-4c27-9be9-36b86e1bcccf",
   "metadata": {},
   "source": [
    "#### Excess Returns and Risk Premiums\n",
    "\n",
    "* Risk premium is difference between expected Holding Period Returns and the risk-free rate; represents the compensation for the risk of the investment\n",
    "\n",
    "* Risk-free rate is the return that can be earned with certainty, typically rate on short term treasury bills\n",
    "\n",
    "* Excess return is difference between actual rate of return and the risk-free rate; it is the _actual_ or _realized_ excess returns on the investment\n",
    "\n",
    "\n"
   ]
  },
  {
   "cell_type": "markdown",
   "id": "fdee9c38-3fd0-4084-b013-ad55810f6940",
   "metadata": {},
   "source": [
    "##### Rates of Returns for Time Series\n",
    "\n",
    "* Involves calculating actual realized returns over a historical time series\n",
    "\n",
    "* When using historical data, each observation is treated as an equally likely \"scenario\"\n",
    "\n",
    "* In this case, $E(r)$, is estimated by calculating the arithmatic average of a sample of historical return rates\n",
    "\n",
    "* the arithmatic average provides an _unbiased estimate_ of expected future returns\n",
    "\n",
    "* To measure performance over time and taking into account compounding, use geometric mean rather than arithmatic mean\n",
    "\n",
    "##### Returns Using Geometric Averaging\n",
    "\n",
    "Terminal value after $n$ periods = $(1+r_{1}) * (1+r_{2}) * ... * (1+r_{n}) = (1+g)^{n} $\n",
    "\n",
    "geometric average $(g) = Terminal Value^{\\frac{1}{n}} - 1$\n",
    "\n",
    "\n",
    "\n",
    "\n",
    "\n"
   ]
  },
  {
   "cell_type": "markdown",
   "id": "969b38ea-8b1e-4e78-95f2-eeb5d68d4446",
   "metadata": {},
   "source": [
    "#### Reward-to-Volatility (Sharpe) Ratio\n",
    "\n",
    "* Sharpe Ratio evaluates performance in terms of risk premium per unit of risk taken\n",
    "\n",
    "* Think of it as a figure of return per \"risk measure\"\n",
    "\n",
    "$Sharpe Ratio = \\frac{E(r) - r_{f}}{SD of returns}$\n",
    "\n",
    "\n",
    "\n"
   ]
  },
  {
   "cell_type": "markdown",
   "id": "33e6f5de-1fe6-41e8-8686-85447847245a",
   "metadata": {},
   "source": [
    "#### Normally Distributed Returns\n",
    "\n",
    "* Many returns are modeled assuming that returns are normally distributed\n",
    "\n",
    "##### What if Excess Returns are Not Normally Distributed?\n",
    "\n",
    "* Standard Deviation is _no longer_ a complete measure of risk and we need to consider Skewness and Kurtosis\n",
    "\n",
    "$Skew = Average[\\frac{(R-\\bar{R})}{\\hat{\\sigma}^{3}}]$\n",
    "    \n",
    "- Skew Measures asymmetry\n",
    "\n",
    "$Kurtosis = Average[\\frac{(R - \\bar{r})^{4}}{\\hat{\\sigma}^{4}}] - 3$\n",
    "\n",
    "- Kurtosis measures likelihood of extreme values\n",
    "\n",
    "* Sharpe ratio is **not** a complete measure of portfolio performance\n",
    "\n",
    "\n"
   ]
  },
  {
   "cell_type": "markdown",
   "id": "98ab5602-7211-46ac-903a-cb68569661c5",
   "metadata": {},
   "source": [
    "#### Value-at-Risk (VaR)\n",
    "\n",
    "* VaR is a measure of loss corresponding to a very low percentile of the entire return distribution, such as the fifth or first percentile return\n",
    "\n",
    "* What are the returns (could be negative returns) at the tail end of the distribution of potential returns\n",
    "\n",
    "\n"
   ]
  },
  {
   "cell_type": "markdown",
   "id": "4dccaff7-6992-494c-95fb-12642c3e3d2c",
   "metadata": {},
   "source": [
    "#### Expected Shortfall (ES)\n",
    "\n",
    "* Also called conditional tail expectation (CTE)\n",
    "\n",
    "* Focuses on expected loss in the worst-case scenario (left tail of distribution)\n",
    "\n",
    "* Expected shortfall is the average loss within the left tail end of the distribution\n",
    "\n",
    "\n",
    "\n"
   ]
  },
  {
   "cell_type": "code",
   "execution_count": null,
   "id": "f587be4d-5f7c-40cd-9d43-02fecbb9d23e",
   "metadata": {},
   "outputs": [],
   "source": []
  }
 ],
 "metadata": {
  "kernelspec": {
   "display_name": "R",
   "language": "R",
   "name": "ir"
  },
  "language_info": {
   "codemirror_mode": "r",
   "file_extension": ".r",
   "mimetype": "text/x-r-source",
   "name": "R",
   "pygments_lexer": "r",
   "version": "4.1.2"
  },
  "toc-autonumbering": false,
  "toc-showcode": false,
  "toc-showmarkdowntxt": false,
  "toc-showtags": false
 },
 "nbformat": 4,
 "nbformat_minor": 5
}
